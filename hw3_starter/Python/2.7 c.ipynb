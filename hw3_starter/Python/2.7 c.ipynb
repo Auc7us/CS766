{
 "cells": [
  {
   "cell_type": "code",
   "execution_count": 2,
   "id": "52ce76a3",
   "metadata": {},
   "outputs": [
    {
     "data": {
      "text/plain": [
       "(140.24875624999999, 115.36648417182248, 165.1310283281775)"
      ]
     },
     "execution_count": 2,
     "metadata": {},
     "output_type": "execute_result"
    }
   ],
   "source": [
    "import numpy as np\n",
    "\n",
    "y = np.array([110, 140, 180, 190])\n",
    "X = np.array([[180, 150], [150, 175], [170, 165], [185, 210]])\n",
    "x_new = np.array([175, 170])\n",
    "\n",
    "theta_star = np.array([-0.53731343,  1.37810945])\n",
    "\n",
    "y_hat_new = x_new @ theta_star\n",
    "\n",
    "residuals = y - X @ theta_star\n",
    "variance = np.var(residuals)\n",
    "\n",
    "se_y_hat = np.sqrt(variance * (x_new.T @ np.linalg.inv(X.T @ X) @ x_new))\n",
    "\n",
    "z_score = 1.96 \n",
    "CI_lower = y_hat_new - z_score * se_y_hat\n",
    "CI_upper = y_hat_new + z_score * se_y_hat\n",
    "\n",
    "\n",
    "y_hat_new, CI_lower, CI_upper"
   ]
  },
  {
   "cell_type": "code",
   "execution_count": null,
   "id": "2f915915",
   "metadata": {},
   "outputs": [],
   "source": []
  }
 ],
 "metadata": {
  "kernelspec": {
   "display_name": "Python 3 (ipykernel)",
   "language": "python",
   "name": "python3"
  },
  "language_info": {
   "codemirror_mode": {
    "name": "ipython",
    "version": 3
   },
   "file_extension": ".py",
   "mimetype": "text/x-python",
   "name": "python",
   "nbconvert_exporter": "python",
   "pygments_lexer": "ipython3",
   "version": "3.9.18"
  }
 },
 "nbformat": 4,
 "nbformat_minor": 5
}
